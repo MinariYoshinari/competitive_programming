{
 "cells": [
  {
   "cell_type": "code",
   "execution_count": 4,
   "metadata": {
    "collapsed": false
   },
   "outputs": [
    {
     "name": "stdout",
     "output_type": "stream",
     "text": [
      "123 456\n",
      "210368064\n"
     ]
    }
   ],
   "source": [
    "MOD = 10**9 + 7\n",
    "w, h = [int(n) for n in input().split()]\n",
    "n = w+h-2\n",
    "r = w-1\n",
    "\n",
    "fact = [1 for _ in range(n+1)]\n",
    "for i in range(2, n+1):\n",
    "    fact[i] = fact[i-1] * i\n",
    "    fact[i] %= MODå\n",
    "com = fact[n] * pow(fact[r], MOD-2, MOD) * pow(fact[n-r], MOD-2, MOD)\n",
    "com %= MOD\n",
    "print(com)"
   ]
  },
  {
   "cell_type": "code",
   "execution_count": null,
   "metadata": {
    "collapsed": true
   },
   "outputs": [],
   "source": []
  },
  {
   "cell_type": "code",
   "execution_count": null,
   "metadata": {
    "collapsed": true
   },
   "outputs": [],
   "source": []
  },
  {
   "cell_type": "code",
   "execution_count": null,
   "metadata": {
    "collapsed": true
   },
   "outputs": [],
   "source": []
  }
 ],
 "metadata": {
  "kernelspec": {
   "display_name": "Python 3",
   "language": "python",
   "name": "python3"
  },
  "language_info": {
   "codemirror_mode": {
    "name": "ipython",
    "version": 3
   },
   "file_extension": ".py",
   "mimetype": "text/x-python",
   "name": "python",
   "nbconvert_exporter": "python",
   "pygments_lexer": "ipython3",
   "version": "3.5.2"
  }
 },
 "nbformat": 4,
 "nbformat_minor": 2
}
